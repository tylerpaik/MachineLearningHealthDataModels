{
 "cells": [
  {
   "cell_type": "code",
   "execution_count": 1,
   "id": "d6d9d84d-5b73-497c-b946-ab74d7345799",
   "metadata": {},
   "outputs": [
    {
     "name": "stdout",
     "output_type": "stream",
     "text": [
      "<class 'pandas.core.frame.DataFrame'>\n",
      "RangeIndex: 108 entries, 0 to 107\n",
      "Data columns (total 6 columns):\n",
      " #   Column                 Non-Null Count  Dtype  \n",
      "---  ------                 --------------  -----  \n",
      " 0   rank                   108 non-null    int64  \n",
      " 1   country                108 non-null    object \n",
      " 2   IQ                     108 non-null    int64  \n",
      " 3   education_expenditure  103 non-null    float64\n",
      " 4   avg_income             106 non-null    float64\n",
      " 5   avg_temp               108 non-null    float64\n",
      "dtypes: float64(3), int64(2), object(1)\n",
      "memory usage: 5.2+ KB\n"
     ]
    },
    {
     "data": {
      "text/html": [
       "<div>\n",
       "<style scoped>\n",
       "    .dataframe tbody tr th:only-of-type {\n",
       "        vertical-align: middle;\n",
       "    }\n",
       "\n",
       "    .dataframe tbody tr th {\n",
       "        vertical-align: top;\n",
       "    }\n",
       "\n",
       "    .dataframe thead th {\n",
       "        text-align: right;\n",
       "    }\n",
       "</style>\n",
       "<table border=\"1\" class=\"dataframe\">\n",
       "  <thead>\n",
       "    <tr style=\"text-align: right;\">\n",
       "      <th></th>\n",
       "      <th>rank</th>\n",
       "      <th>country</th>\n",
       "      <th>IQ</th>\n",
       "      <th>education_expenditure</th>\n",
       "      <th>avg_income</th>\n",
       "      <th>avg_temp</th>\n",
       "    </tr>\n",
       "  </thead>\n",
       "  <tbody>\n",
       "    <tr>\n",
       "      <th>0</th>\n",
       "      <td>1</td>\n",
       "      <td>Hong Kong</td>\n",
       "      <td>106</td>\n",
       "      <td>1283.0</td>\n",
       "      <td>35304.0</td>\n",
       "      <td>26.2</td>\n",
       "    </tr>\n",
       "    <tr>\n",
       "      <th>1</th>\n",
       "      <td>2</td>\n",
       "      <td>Japan</td>\n",
       "      <td>106</td>\n",
       "      <td>1340.0</td>\n",
       "      <td>40964.0</td>\n",
       "      <td>19.2</td>\n",
       "    </tr>\n",
       "    <tr>\n",
       "      <th>2</th>\n",
       "      <td>3</td>\n",
       "      <td>Singapore</td>\n",
       "      <td>106</td>\n",
       "      <td>1428.0</td>\n",
       "      <td>41100.0</td>\n",
       "      <td>31.5</td>\n",
       "    </tr>\n",
       "    <tr>\n",
       "      <th>3</th>\n",
       "      <td>4</td>\n",
       "      <td>Taiwan</td>\n",
       "      <td>106</td>\n",
       "      <td>NaN</td>\n",
       "      <td>NaN</td>\n",
       "      <td>26.9</td>\n",
       "    </tr>\n",
       "    <tr>\n",
       "      <th>4</th>\n",
       "      <td>5</td>\n",
       "      <td>China</td>\n",
       "      <td>104</td>\n",
       "      <td>183.0</td>\n",
       "      <td>4654.0</td>\n",
       "      <td>19.1</td>\n",
       "    </tr>\n",
       "    <tr>\n",
       "      <th>...</th>\n",
       "      <td>...</td>\n",
       "      <td>...</td>\n",
       "      <td>...</td>\n",
       "      <td>...</td>\n",
       "      <td>...</td>\n",
       "      <td>...</td>\n",
       "    </tr>\n",
       "    <tr>\n",
       "      <th>103</th>\n",
       "      <td>104</td>\n",
       "      <td>Equatorial Guinea</td>\n",
       "      <td>56</td>\n",
       "      <td>NaN</td>\n",
       "      <td>7625.0</td>\n",
       "      <td>29.9</td>\n",
       "    </tr>\n",
       "    <tr>\n",
       "      <th>104</th>\n",
       "      <td>105</td>\n",
       "      <td>Gambia</td>\n",
       "      <td>55</td>\n",
       "      <td>14.0</td>\n",
       "      <td>648.0</td>\n",
       "      <td>32.9</td>\n",
       "    </tr>\n",
       "    <tr>\n",
       "      <th>105</th>\n",
       "      <td>106</td>\n",
       "      <td>Guatemala</td>\n",
       "      <td>55</td>\n",
       "      <td>92.0</td>\n",
       "      <td>2830.0</td>\n",
       "      <td>32.1</td>\n",
       "    </tr>\n",
       "    <tr>\n",
       "      <th>106</th>\n",
       "      <td>107</td>\n",
       "      <td>Sierra Leone</td>\n",
       "      <td>52</td>\n",
       "      <td>16.0</td>\n",
       "      <td>412.0</td>\n",
       "      <td>30.4</td>\n",
       "    </tr>\n",
       "    <tr>\n",
       "      <th>107</th>\n",
       "      <td>108</td>\n",
       "      <td>Nepal</td>\n",
       "      <td>51</td>\n",
       "      <td>22.0</td>\n",
       "      <td>595.0</td>\n",
       "      <td>24.6</td>\n",
       "    </tr>\n",
       "  </tbody>\n",
       "</table>\n",
       "<p>108 rows × 6 columns</p>\n",
       "</div>"
      ],
      "text/plain": [
       "     rank            country   IQ  education_expenditure  avg_income  avg_temp\n",
       "0       1         Hong Kong   106                 1283.0     35304.0      26.2\n",
       "1       2              Japan  106                 1340.0     40964.0      19.2\n",
       "2       3          Singapore  106                 1428.0     41100.0      31.5\n",
       "3       4            Taiwan   106                    NaN         NaN      26.9\n",
       "4       5              China  104                  183.0      4654.0      19.1\n",
       "..    ...                ...  ...                    ...         ...       ...\n",
       "103   104  Equatorial Guinea   56                    NaN      7625.0      29.9\n",
       "104   105             Gambia   55                   14.0       648.0      32.9\n",
       "105   106          Guatemala   55                   92.0      2830.0      32.1\n",
       "106   107       Sierra Leone   52                   16.0       412.0      30.4\n",
       "107   108              Nepal   51                   22.0       595.0      24.6\n",
       "\n",
       "[108 rows x 6 columns]"
      ]
     },
     "metadata": {},
     "output_type": "display_data"
    }
   ],
   "source": [
    "import pandas as pd\n",
    "from sklearn.model_selection import train_test_split\n",
    "from sklearn.feature_extraction.text import CountVectorizer\n",
    "from sklearn import svm \n",
    "from sklearn.linear_model import LogisticRegression\n",
    "from sklearn.metrics import roc_auc_score\n",
    "from sklearn.metrics import roc_curve\n",
    "%matplotlib inline\n",
    "import numpy as np\n",
    "import scipy as sp\n",
    "import scipy.stats as stats\n",
    "import pandas as pd\n",
    "import matplotlib.pyplot as plt\n",
    "import seaborn as sns\n",
    "# Set color map to have light blue background\n",
    "sns.set()\n",
    "import statsmodels.formula.api as smf\n",
    "import statsmodels.api as sm\n",
    "\n",
    "\n",
    "\n",
    "iq = pd.read_csv('IQ_level.csv')\n",
    "iq.info()\n",
    "display(iq)"
   ]
  },
  {
   "cell_type": "code",
   "execution_count": 2,
   "id": "6d453950-9260-4fbd-9856-814752208c21",
   "metadata": {},
   "outputs": [],
   "source": [
    "# plt.figure(figsize=(15, 13))\n",
    "# sns.heatmap(cc.corr(), annot = False, cmap=\"coolwarm\")\n",
    "# plt.plot()"
   ]
  },
  {
   "cell_type": "code",
   "execution_count": 3,
   "id": "1a833051-4f04-4dbc-a2d3-63bbe6e3fb52",
   "metadata": {},
   "outputs": [],
   "source": [
    "# plt.figure(figsize=(15, 13))\n",
    "# sns.pairplot(cc.iloc[: , : 31].corr())\n",
    "# plt.plot()"
   ]
  },
  {
   "cell_type": "code",
   "execution_count": 4,
   "id": "e6065a25-d4d6-451c-9304-743082882a92",
   "metadata": {},
   "outputs": [
    {
     "name": "stdout",
     "output_type": "stream",
     "text": [
      "education_expenditure\n"
     ]
    },
    {
     "data": {
      "image/png": "[encoded data removed]",
      "text/plain": [
       "<Figure size 640x480 with 1 Axes>"
      ]
     },
     "metadata": {},
     "output_type": "display_data"
    },
    {
     "name": "stdout",
     "output_type": "stream",
     "text": [
      "avg_income\n"
     ]
    },
    {
     "data": {
      "image/png": "[encoded data removed]",
      "text/plain": [
       "<Figure size 640x480 with 1 Axes>"
      ]
     },
     "metadata": {},
     "output_type": "display_data"
    },
    {
     "name": "stdout",
     "output_type": "stream",
     "text": [
      "avg_temp\n"
     ]
    },
    {
     "data": {
      "image/png": "[encoded data removed]",
      "text/plain": [
       "<Figure size 640x480 with 1 Axes>"
      ]
     },
     "metadata": {},
     "output_type": "display_data"
    },
    {
     "name": "stdout",
     "output_type": "stream",
     "text": [
      "avg_temp is the best predictor with an rsquared of 0.3887939761721767\n"
     ]
    }
   ],
   "source": [
    "rs = []\n",
    "cols = []\n",
    "for col in iq:\n",
    "    if col != 'rank' and col != 'country' and col != 'IQ':\n",
    "        formula = 'IQ ~ ' + col\n",
    "        model = smf.ols(formula=formula, data=iq).fit()\n",
    "        rs.append(model.rsquared_adj)\n",
    "        cols.append(col)\n",
    "        i = model.params['Intercept']\n",
    "        m = model.params[col]\n",
    "        xval = iq[col]\n",
    "        print(col)\n",
    "        yval = iq['IQ']\n",
    "        plt.plot(xval, i + m * xval)\n",
    "        plt.scatter(x = xval, y = yval)\n",
    "        plt.xlabel('Parameter')\n",
    "        plt.ylabel('IQ')\n",
    "        plt.show()\n",
    "\n",
    "x = rs.index(max(rs))\n",
    "print(cols[x], 'is the best predictor with an rsquared of', rs[x])"
   ]
  },
  {
   "cell_type": "code",
   "execution_count": 5,
   "id": "a087c13a-9b5f-4132-abaa-c8e92d988416",
   "metadata": {},
   "outputs": [],
   "source": [
    "train_IQ, test_IQ = train_test_split(iq, test_size=0.5, random_state = 0)"
   ]
  },
  {
   "cell_type": "code",
   "execution_count": 6,
   "id": "dd0624c7-09ed-470b-a965-8f3874b4333d",
   "metadata": {},
   "outputs": [
    {
     "name": "stdout",
     "output_type": "stream",
     "text": [
      "education_expenditure 0.316408790611148\n",
      "avg_temp 0.4976487258159036\n",
      "avg_income 0.4014545580075307\n",
      "best: ['avg_temp', 0.4976487258159036]\n"
     ]
    }
   ],
   "source": [
    "kcols = ['education_expenditure', 'avg_temp', 'avg_income']\n",
    "best = ['',0]\n",
    "for p in kcols:\n",
    "    model  = smf.ols(formula='IQ~'+p, data=train_IQ).fit()\n",
    "    print(p, model.rsquared)\n",
    "    if model.rsquared>best[1]:\n",
    "        best = [p, model.rsquared]\n",
    "print('best:',best)\n",
    "\n",
    "accepted_factors = []\n",
    "accepted_factors.append('avg_temp')\n",
    "kcols.remove('avg_temp')\n",
    "train_iq1 = smf.ols(formula='IQ~avg_temp', data=train_IQ).fit()"
   ]
  },
  {
   "cell_type": "code",
   "execution_count": 7,
   "id": "97275f45-3164-4674-b8e5-5756347dd005",
   "metadata": {},
   "outputs": [
    {
     "name": "stdout",
     "output_type": "stream",
     "text": [
      "education_expenditure 0.316408790611148\n",
      "avg_income 0.4014545580075307\n",
      "best: ['avg_income', 0.4014545580075307]\n"
     ]
    }
   ],
   "source": [
    "best = ['',0]\n",
    "for p in kcols:\n",
    "    model  = smf.ols(formula='IQ~'+p, data=train_IQ).fit()\n",
    "    print(p, model.rsquared)\n",
    "    if model.rsquared>best[1]:\n",
    "        best = [p, model.rsquared]\n",
    "print('best:',best)\n",
    "\n",
    "accepted_factors.append('avg_income')\n",
    "kcols.remove('avg_income')\n",
    "train_iq2 = smf.ols(formula='IQ~avg_temp + avg_income', data=train_IQ).fit()"
   ]
  },
  {
   "cell_type": "code",
   "execution_count": 8,
   "id": "3852b0a0-9cdb-4fdc-9a94-251a20e0d59d",
   "metadata": {},
   "outputs": [
    {
     "name": "stdout",
     "output_type": "stream",
     "text": [
      "education_expenditure 0.316408790611148\n",
      "best: ['education_expenditure', 0.316408790611148]\n"
     ]
    }
   ],
   "source": [
    "best = ['',0]\n",
    "for p in kcols:\n",
    "    model  = smf.ols(formula='IQ~'+p, data=train_IQ).fit()\n",
    "    print(p, model.rsquared)\n",
    "    if model.rsquared>best[1]:\n",
    "        best = [p, model.rsquared]\n",
    "print('best:',best)\n",
    "\n",
    "accepted_factors.append('education_expenditure')\n",
    "kcols.remove('education_expenditure')\n",
    "train_iq3 = smf.ols(formula='IQ~avg_temp + avg_income + education_expenditure', data=train_IQ).fit()"
   ]
  },
  {
   "cell_type": "code",
   "execution_count": 9,
   "id": "edf38f4a-b844-4b4c-b968-3c33a262943e",
   "metadata": {},
   "outputs": [
    {
     "data": {
      "image/png": "[encoded data removed]",
      "text/plain": [
       "<Figure size 640x480 with 1 Axes>"
      ]
     },
     "metadata": {},
     "output_type": "display_data"
    }
   ],
   "source": [
    "x = [1, 2, 3]\n",
    "adjr2_train = [train_iq1.rsquared, train_iq2.rsquared, train_iq3.rsquared]\n",
    "plt.plot(x, adjr2_train, label = \"Training Data\")\n",
    "adjr2_test = []\n",
    "for p in accepted_factors:\n",
    "    model  = smf.ols(formula='IQ~'+p, data=test_IQ).fit()\n",
    "    adjr2_test.append(model.rsquared)\n",
    "plt.plot(x, adjr2_test, label = \"Testing Data\")\n",
    "plt.ylabel('R^2')\n",
    "plt.xlabel('Factors')\n",
    "plt.legend()\n",
    "plt.show()"
   ]
  },
  {
   "cell_type": "code",
   "execution_count": 10,
   "id": "dd8fa00a-4f70-473f-808f-59a8424fc91e",
   "metadata": {},
   "outputs": [
    {
     "name": "stdout",
     "output_type": "stream",
     "text": [
      "<class 'pandas.core.frame.DataFrame'>\n",
      "RangeIndex: 768 entries, 0 to 767\n",
      "Data columns (total 9 columns):\n",
      " #   Column                    Non-Null Count  Dtype  \n",
      "---  ------                    --------------  -----  \n",
      " 0   Pregnancies               768 non-null    int64  \n",
      " 1   Glucose                   768 non-null    int64  \n",
      " 2   BloodPressure             768 non-null    int64  \n",
      " 3   SkinThickness             768 non-null    int64  \n",
      " 4   Insulin                   768 non-null    int64  \n",
      " 5   BMI                       768 non-null    float64\n",
      " 6   DiabetesPedigreeFunction  768 non-null    float64\n",
      " 7   Age                       768 non-null    int64  \n",
      " 8   Outcome                   768 non-null    int64  \n",
      "dtypes: float64(2), int64(7)\n",
      "memory usage: 54.1 KB\n"
     ]
    },
    {
     "data": {
      "text/html": [
       "<div>\n",
       "<style scoped>\n",
       "    .dataframe tbody tr th:only-of-type {\n",
       "        vertical-align: middle;\n",
       "    }\n",
       "\n",
       "    .dataframe tbody tr th {\n",
       "        vertical-align: top;\n",
       "    }\n",
       "\n",
       "    .dataframe thead th {\n",
       "        text-align: right;\n",
       "    }\n",
       "</style>\n",
       "<table border=\"1\" class=\"dataframe\">\n",
       "  <thead>\n",
       "    <tr style=\"text-align: right;\">\n",
       "      <th></th>\n",
       "      <th>Pregnancies</th>\n",
       "      <th>Glucose</th>\n",
       "      <th>BloodPressure</th>\n",
       "      <th>SkinThickness</th>\n",
       "      <th>Insulin</th>\n",
       "      <th>BMI</th>\n",
       "      <th>DiabetesPedigreeFunction</th>\n",
       "      <th>Age</th>\n",
       "      <th>Outcome</th>\n",
       "    </tr>\n",
       "  </thead>\n",
       "  <tbody>\n",
       "    <tr>\n",
       "      <th>0</th>\n",
       "      <td>6</td>\n",
       "      <td>148</td>\n",
       "      <td>72</td>\n",
       "      <td>35</td>\n",
       "      <td>0</td>\n",
       "      <td>33.6</td>\n",
       "      <td>0.627</td>\n",
       "      <td>50</td>\n",
       "      <td>1</td>\n",
       "    </tr>\n",
       "    <tr>\n",
       "      <th>1</th>\n",
       "      <td>1</td>\n",
       "      <td>85</td>\n",
       "      <td>66</td>\n",
       "      <td>29</td>\n",
       "      <td>0</td>\n",
       "      <td>26.6</td>\n",
       "      <td>0.351</td>\n",
       "      <td>31</td>\n",
       "      <td>0</td>\n",
       "    </tr>\n",
       "    <tr>\n",
       "      <th>2</th>\n",
       "      <td>8</td>\n",
       "      <td>183</td>\n",
       "      <td>64</td>\n",
       "      <td>0</td>\n",
       "      <td>0</td>\n",
       "      <td>23.3</td>\n",
       "      <td>0.672</td>\n",
       "      <td>32</td>\n",
       "      <td>1</td>\n",
       "    </tr>\n",
       "    <tr>\n",
       "      <th>3</th>\n",
       "      <td>1</td>\n",
       "      <td>89</td>\n",
       "      <td>66</td>\n",
       "      <td>23</td>\n",
       "      <td>94</td>\n",
       "      <td>28.1</td>\n",
       "      <td>0.167</td>\n",
       "      <td>21</td>\n",
       "      <td>0</td>\n",
       "    </tr>\n",
       "    <tr>\n",
       "      <th>4</th>\n",
       "      <td>0</td>\n",
       "      <td>137</td>\n",
       "      <td>40</td>\n",
       "      <td>35</td>\n",
       "      <td>168</td>\n",
       "      <td>43.1</td>\n",
       "      <td>2.288</td>\n",
       "      <td>33</td>\n",
       "      <td>1</td>\n",
       "    </tr>\n",
       "    <tr>\n",
       "      <th>...</th>\n",
       "      <td>...</td>\n",
       "      <td>...</td>\n",
       "      <td>...</td>\n",
       "      <td>...</td>\n",
       "      <td>...</td>\n",
       "      <td>...</td>\n",
       "      <td>...</td>\n",
       "      <td>...</td>\n",
       "      <td>...</td>\n",
       "    </tr>\n",
       "    <tr>\n",
       "      <th>763</th>\n",
       "      <td>10</td>\n",
       "      <td>101</td>\n",
       "      <td>76</td>\n",
       "      <td>48</td>\n",
       "      <td>180</td>\n",
       "      <td>32.9</td>\n",
       "      <td>0.171</td>\n",
       "      <td>63</td>\n",
       "      <td>0</td>\n",
       "    </tr>\n",
       "    <tr>\n",
       "      <th>764</th>\n",
       "      <td>2</td>\n",
       "      <td>122</td>\n",
       "      <td>70</td>\n",
       "      <td>27</td>\n",
       "      <td>0</td>\n",
       "      <td>36.8</td>\n",
       "      <td>0.340</td>\n",
       "      <td>27</td>\n",
       "      <td>0</td>\n",
       "    </tr>\n",
       "    <tr>\n",
       "      <th>765</th>\n",
       "      <td>5</td>\n",
       "      <td>121</td>\n",
       "      <td>72</td>\n",
       "      <td>23</td>\n",
       "      <td>112</td>\n",
       "      <td>26.2</td>\n",
       "      <td>0.245</td>\n",
       "      <td>30</td>\n",
       "      <td>0</td>\n",
       "    </tr>\n",
       "    <tr>\n",
       "      <th>766</th>\n",
       "      <td>1</td>\n",
       "      <td>126</td>\n",
       "      <td>60</td>\n",
       "      <td>0</td>\n",
       "      <td>0</td>\n",
       "      <td>30.1</td>\n",
       "      <td>0.349</td>\n",
       "      <td>47</td>\n",
       "      <td>1</td>\n",
       "    </tr>\n",
       "    <tr>\n",
       "      <th>767</th>\n",
       "      <td>1</td>\n",
       "      <td>93</td>\n",
       "      <td>70</td>\n",
       "      <td>31</td>\n",
       "      <td>0</td>\n",
       "      <td>30.4</td>\n",
       "      <td>0.315</td>\n",
       "      <td>23</td>\n",
       "      <td>0</td>\n",
       "    </tr>\n",
       "  </tbody>\n",
       "</table>\n",
       "<p>768 rows × 9 columns</p>\n",
       "</div>"
      ],
      "text/plain": [
       "     Pregnancies  Glucose  BloodPressure  SkinThickness  Insulin   BMI  \\\n",
       "0              6      148             72             35        0  33.6   \n",
       "1              1       85             66             29        0  26.6   \n",
       "2              8      183             64              0        0  23.3   \n",
       "3              1       89             66             23       94  28.1   \n",
       "4              0      137             40             35      168  43.1   \n",
       "..           ...      ...            ...            ...      ...   ...   \n",
       "763           10      101             76             48      180  32.9   \n",
       "764            2      122             70             27        0  36.8   \n",
       "765            5      121             72             23      112  26.2   \n",
       "766            1      126             60              0        0  30.1   \n",
       "767            1       93             70             31        0  30.4   \n",
       "\n",
       "     DiabetesPedigreeFunction  Age  Outcome  \n",
       "0                       0.627   50        1  \n",
       "1                       0.351   31        0  \n",
       "2                       0.672   32        1  \n",
       "3                       0.167   21        0  \n",
       "4                       2.288   33        1  \n",
       "..                        ...  ...      ...  \n",
       "763                     0.171   63        0  \n",
       "764                     0.340   27        0  \n",
       "765                     0.245   30        0  \n",
       "766                     0.349   47        1  \n",
       "767                     0.315   23        0  \n",
       "\n",
       "[768 rows x 9 columns]"
      ]
     },
     "metadata": {},
     "output_type": "display_data"
    }
   ],
   "source": [
    "h = pd.read_csv('diabetes.csv')\n",
    "h.info()\n",
    "display(h)"
   ]
  },
  {
   "cell_type": "code",
   "execution_count": 11,
   "id": "d097af41-4fb3-4a63-b957-9d99f2883789",
   "metadata": {},
   "outputs": [],
   "source": [
    "params = h.drop(labels = \"Outcome\", axis = 'columns')\n",
    "x_train, x_test = train_test_split(params, test_size=0.25, shuffle = False)\n",
    "y_train, y_test = train_test_split(h['Outcome'], test_size=0.25, shuffle = False)"
   ]
  },
  {
   "cell_type": "code",
   "execution_count": 12,
   "id": "bd61d1be-18f8-467a-ba93-a56bbad09d90",
   "metadata": {},
   "outputs": [
    {
     "data": {
      "text/plain": [
       "array([[ 1.22874061e-01,  2.36546423e-02, -1.64581420e-02,\n",
       "        -1.77262673e-03, -1.92178079e-04,  6.20266829e-02,\n",
       "         6.75425637e-01, -8.72414589e-04]])"
      ]
     },
     "execution_count": 12,
     "metadata": {},
     "output_type": "execute_result"
    }
   ],
   "source": [
    "LogReg = LogisticRegression(solver='liblinear')\n",
    "LogReg.fit(x_train, y_train)\n",
    "LogReg.coef_"
   ]
  },
  {
   "cell_type": "code",
   "execution_count": 13,
   "id": "ae15f256-173f-4aad-bff0-058badd19c64",
   "metadata": {},
   "outputs": [
    {
     "data": {
      "image/png": "[encoded data removed]",
      "text/plain": [
       "<Figure size 640x480 with 1 Axes>"
      ]
     },
     "metadata": {},
     "output_type": "display_data"
    }
   ],
   "source": [
    "pp = LogReg.predict_proba(x_test)[:, 1]\n",
    "roc_auc = roc_auc_score(y_test, pp)\n",
    "fpr, tpr, thresholds = roc_curve(y_test, pp)\n",
    "plt.plot(fpr, tpr)\n",
    "plt.fill_between(fpr, tpr, color = 'orange')\n",
    "plt.show()"
   ]
  },
  {
   "cell_type": "code",
   "execution_count": 14,
   "id": "e7e97fe9-615e-4323-9be8-98174ff58bd8",
   "metadata": {},
   "outputs": [],
   "source": [
    "def gen_logistic(x, w=1, b=0):\n",
    "    \"\"\"\n",
    "    outputing the logistic output for an input x\n",
    "    :param x: scalar or numpy array of shape (n_samples, n_features). If only one feature, it must have the shape of (n_samples,1).\n",
    "    :param w: weight(s); either scalar or numpy array of shape (1, n_features)\n",
    "    :param b: bias; either scalar or numpy array of shape (1,)\n",
    "    returns y of shape (n_samples,)\n",
    "    \"\"\"    \n",
    "    # TODO: Finish this function to return the output of applying the sigmoid\n",
    "    # function to the input x (Please do not use external libraries) store \n",
    "    # the output in y and return y. Do not change the default parameter values.\n",
    "    # Hint: This function will be used in any input shape scalar (0d), 1d vector, and 2d arrays. Please make sure it can handle all those. Following reshaping codes might help.\n",
    "    # Hint2: You may use design matrix using concatenation, but it is not necesary.\n",
    "    \n",
    "    y =0 \n",
    "    if np.isscalar(x):\n",
    "      x = np.array(x).reshape((1,1))\n",
    "    if np.isscalar(w):\n",
    "      w = np.array(w).reshape((1,1))\n",
    "    if np.isscalar(b):\n",
    "      b = np.array(b).reshape((1,1))  \n",
    "    if b.shape==(1,):\n",
    "      b= b.reshape((1,1))  \n",
    "\n",
    "    # your code here\n",
    "    z = np.dot(x, w.T) + b\n",
    "    y = 1 / (1 + np.exp(-z))\n",
    "    \n",
    "    print(y.reshape(y.shape[0],))\n",
    "    return y.reshape(y.shape[0],)"
   ]
  },
  {
   "cell_type": "code",
   "execution_count": 15,
   "id": "2710a219-8f02-4683-ba96-7243fd591d25",
   "metadata": {},
   "outputs": [
    {
     "name": "stdout",
     "output_type": "stream",
     "text": [
      "[0.34861517 0.42343888 0.481193   0.71606953 0.42872678 0.23268529\n",
      " 0.41281816 0.36587585 0.39331627 0.10909196 0.58801134 0.19747576\n",
      " 0.66784442 0.13067842 0.70527376 0.24921541 0.35469282 0.27334734\n",
      " 0.43723797 0.58023197 0.12954833 0.22072108 0.54149971 0.19250312\n",
      " 0.1177433  0.36408327 0.16802828 0.62547944 0.82548007 0.35928466\n",
      " 0.76164505 0.08317695 0.42989966 0.12922674 0.24469399 0.67343556\n",
      " 0.72631666 0.33207708 0.68055744 0.15031452 0.20508354 0.05061707\n",
      " 0.4488774  0.44007771 0.22414196 0.20092615 0.86500467 0.22723453\n",
      " 0.19880755 0.18187519 0.16122278 0.26033138 0.35204285 0.12788903\n",
      " 0.38414214 0.13953716 0.19480565 0.16250606 0.25675461 0.48722837\n",
      " 0.19226997 0.16973491 0.4469867  0.06826473 0.12681664 0.38668721\n",
      " 0.41690467 0.40189277 0.1945684  0.49087585 0.35031105 0.69209383\n",
      " 0.4635027  0.12639707 0.10760124 0.28696336 0.34365397 0.26932172\n",
      " 0.17667164 0.57585266 0.10899244 0.38780717 0.49359006 0.20977513\n",
      " 0.58238073 0.87508531 0.58157559 0.67240097 0.37333838 0.1816593\n",
      " 0.38077901 0.32757723 0.31603199 0.55995384 0.6836428  0.1521278\n",
      " 0.1488354  0.62568842 0.30822881 0.7630073  0.47209191 0.17051963\n",
      " 0.38514398 0.16181485 0.05503668 0.66315897 0.26100546 0.3393705\n",
      " 0.09230577 0.32976481 0.24534428 0.18391125 0.2749324  0.49232508\n",
      " 0.29567809 0.74607444 0.43654478 0.54707201 0.10085955 0.35386281\n",
      " 0.48987848 0.25057566 0.34926299 0.58396041 0.30684608 0.324423\n",
      " 0.54841016 0.67152135 0.17741063 0.20969313 0.26103953 0.3739981\n",
      " 0.65857754 0.26063145 0.48229539 0.31365768 0.70609012 0.23884837\n",
      " 0.15543145 0.86032985 0.65866801 0.24629189 0.24897969 0.2476054\n",
      " 0.10601299 0.27515943 0.3383183  0.3343955  0.14628603 0.31358011\n",
      " 0.25156792 0.27887524 0.35863122 0.16375999 0.25244502 0.30655783\n",
      " 0.7027765  0.21073766 0.13384706 0.25310916 0.165689   0.1837034\n",
      " 0.26062918 0.22958547 0.67949624 0.27327268 0.17497548 0.5536716\n",
      " 0.8597497  0.35191324 0.52917068 0.30615431 0.71601186 0.49825859\n",
      " 0.53273796 0.27872105 0.17685071 0.58187464 0.60234774 0.35846989\n",
      " 0.40663454 0.2621714  0.21017238 0.71298028 0.17417121 0.84269889\n",
      " 0.18448304 0.3119251  0.32753489 0.24121985 0.27645453 0.1250261 ]\n"
     ]
    }
   ],
   "source": [
    "w = LogReg.coef_\n",
    "x = x_test\n",
    "b = LogReg.intercept_\n",
    "y_pred = gen_logistic(x, w, b)"
   ]
  },
  {
   "cell_type": "code",
   "execution_count": 34,
   "id": "a6788df0-02ca-46e2-a6ce-07139d5ec607",
   "metadata": {},
   "outputs": [
    {
     "name": "stdout",
     "output_type": "stream",
     "text": [
      "0.8181818181818182\n"
     ]
    }
   ],
   "source": [
    "count_true = 0\n",
    "count_pred = 0\n",
    "for i in range(576, 767):\n",
    "    if y_pred[i - 576] >= .5:\n",
    "        count_pred += 1\n",
    "        if y_test[i] >= .5:\n",
    "            count_true += 1\n",
    "precision = count_true/count_pred\n",
    "print(precision)"
   ]
  },
  {
   "cell_type": "code",
   "execution_count": 39,
   "id": "5b9de7eb-0817-417d-8e71-47390f9373e2",
   "metadata": {},
   "outputs": [
    {
     "name": "stdout",
     "output_type": "stream",
     "text": [
      "0.5142857142857142\n"
     ]
    }
   ],
   "source": [
    "count_true = 0\n",
    "count_pred = 0\n",
    "for i in range(576, 767):\n",
    "    if y_test[i] >= .5:\n",
    "        count_true += 1\n",
    "        if y_pred[i - 576] >= .5:\n",
    "            count_pred += 1\n",
    "\n",
    "recall = count_pred/count_true\n",
    "print(recall)"
   ]
  },
  {
   "cell_type": "code",
   "execution_count": null,
   "id": "bde76cc6-84e0-447d-9aec-2e2be34a0318",
   "metadata": {},
   "outputs": [],
   "source": []
  }
 ],
 "metadata": {
  "kernelspec": {
   "display_name": "Python 3 (ipykernel)",
   "language": "python",
   "name": "python3"
  },
  "language_info": {
   "codemirror_mode": {
    "name": "ipython",
    "version": 3
   },
   "file_extension": ".py",
   "mimetype": "text/x-python",
   "name": "python",
   "nbconvert_exporter": "python",
   "pygments_lexer": "ipython3",
   "version": "3.10.8"
  }
 },
 "nbformat": 4,
 "nbformat_minor": 5
}
